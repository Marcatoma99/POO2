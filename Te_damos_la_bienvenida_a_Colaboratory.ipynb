{
  "cells": [
    {
      "cell_type": "markdown",
      "metadata": {
        "id": "view-in-github",
        "colab_type": "text"
      },
      "source": [
        "<a href=\"https://colab.research.google.com/github/Marcatoma99/POO2/blob/main/Te_damos_la_bienvenida_a_Colaboratory.ipynb\" target=\"_parent\"><img src=\"https://colab.research.google.com/assets/colab-badge.svg\" alt=\"Open In Colab\"/></a>"
      ]
    },
    {
      "cell_type": "code",
      "source": [
        "def dividir (num,div):\n",
        "  return num/div\n",
        "  "
      ],
      "metadata": {
        "id": "Go-8l4sSeBSo"
      },
      "execution_count": 8,
      "outputs": []
    },
    {
      "cell_type": "code",
      "source": [
        "dividir(2,4)"
      ],
      "metadata": {
        "id": "n2o-cwAMe9ig",
        "outputId": "50e485ec-388f-4579-fb64-e21de2d03ee5",
        "colab": {
          "base_uri": "https://localhost:8080/"
        }
      },
      "execution_count": 16,
      "outputs": [
        {
          "output_type": "execute_result",
          "data": {
            "text/plain": [
              "0.5"
            ]
          },
          "metadata": {},
          "execution_count": 16
        }
      ]
    },
    {
      "cell_type": "code",
      "source": [
        "try:\n",
        "  #Funcion\n",
        "  resr = dividir(2,0)\n",
        "  #Imprimir resultado\n",
        "  print(res)\n",
        "except ZeroDivisionError :\n",
        "  #  # imprimir mensaje\n",
        "  print(\"Division para cero\")"
      ],
      "metadata": {
        "id": "aXNMyK3YgqAB",
        "outputId": "201e951f-c0e9-4aa5-fd3f-c79b5c14b4b9",
        "colab": {
          "base_uri": "https://localhost:8080/"
        }
      },
      "execution_count": 22,
      "outputs": [
        {
          "output_type": "stream",
          "name": "stdout",
          "text": [
            "Division para cero\n"
          ]
        }
      ]
    }
  ],
  "metadata": {
    "colab": {
      "collapsed_sections": [],
      "name": "Te damos la bienvenida a Colaboratory",
      "provenance": [],
      "include_colab_link": true
    },
    "kernelspec": {
      "display_name": "Python 3",
      "name": "python3"
    }
  },
  "nbformat": 4,
  "nbformat_minor": 0
}